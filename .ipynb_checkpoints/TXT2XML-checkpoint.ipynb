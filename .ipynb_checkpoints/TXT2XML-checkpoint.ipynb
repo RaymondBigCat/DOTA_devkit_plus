{
 "cells": [
  {
   "cell_type": "code",
   "execution_count": null,
   "metadata": {},
   "outputs": [],
   "source": [
    "# TEST\n",
    "\"\"\"\n",
    "将DOTA标注(.txt)转化为XML格式\n",
    "\"\"\"\n",
    "import os\n",
    "import scipy.misc as misc\n",
    "from xml.dom.minidom import Document\n",
    "import numpy as np\n",
    "import copy, cv2\n",
    "%matplotlib inline\n",
    "import matplotlib.pyplot as plt\n",
    "import os\n",
    "import pylab\n",
    "import sys\n",
    "# sys.path.append('/home/raymond/project/PytorchSSD_DOTA/data/DOTA_devkit') # 保证DOTA_devkit可用的关键\n",
    "from DOTA_devkit import DOTA\n",
    "import torchvision.transforms as transforms\n",
    "from PIL import Image\n",
    "\n",
    "def save_to_xml(save_path, im_height, im_width, objects_axis, label_name, parseMode = 'parse_dota_rec'):\n",
    "    \"\"\"\n",
    "    param:\n",
    "        save_path: new path for saving xml file\n",
    "        im_height: image height\n",
    "        im_width: image width\n",
    "        object_axis: 坐标点（4×2）\n",
    "        lable_name：从int解码出str（类别）\n",
    "        parseMode: 选择解析为旋转框or水平框\n",
    "    return:\n",
    "        (inplace)\n",
    "    \"\"\"\n",
    "    im_depth = 0\n",
    "    object_num = len(objects_axis)\n",
    "    doc = Document()\n",
    "\n",
    "    annotation = doc.createElement('annotation')\n",
    "    doc.appendChild(annotation)\n",
    "\n",
    "    folder = doc.createElement('folder')\n",
    "    folder_name = doc.createTextNode('VOC2007')\n",
    "    folder.appendChild(folder_name)\n",
    "    annotation.appendChild(folder)\n",
    "\n",
    "    filename = doc.createElement('filename')\n",
    "    filename_name = doc.createTextNode('000024.jpg')\n",
    "    filename.appendChild(filename_name)\n",
    "    annotation.appendChild(filename)\n",
    "\n",
    "    source = doc.createElement('source')\n",
    "    annotation.appendChild(source)\n",
    "\n",
    "    database = doc.createElement('database')\n",
    "    database.appendChild(doc.createTextNode('The VOC2007 Database'))\n",
    "    source.appendChild(database)\n",
    "\n",
    "    annotation_s = doc.createElement('annotation')\n",
    "    annotation_s.appendChild(doc.createTextNode('PASCAL VOC2007'))\n",
    "    source.appendChild(annotation_s)\n",
    "\n",
    "    image = doc.createElement('image')\n",
    "    image.appendChild(doc.createTextNode('flickr'))\n",
    "    source.appendChild(image)\n",
    "\n",
    "    flickrid = doc.createElement('flickrid')\n",
    "    flickrid.appendChild(doc.createTextNode('322409915'))\n",
    "    source.appendChild(flickrid)\n",
    "\n",
    "    owner = doc.createElement('owner')\n",
    "    annotation.appendChild(owner)\n",
    "\n",
    "    flickrid_o = doc.createElement('flickrid')\n",
    "    flickrid_o.appendChild(doc.createTextNode('knautia'))\n",
    "    owner.appendChild(flickrid_o)\n",
    "\n",
    "    name_o = doc.createElement('name')\n",
    "    name_o.appendChild(doc.createTextNode('raymond'))\n",
    "    owner.appendChild(name_o)\n",
    "\n",
    "\n",
    "    size = doc.createElement('size')\n",
    "    annotation.appendChild(size)\n",
    "    width = doc.createElement('width')\n",
    "    width.appendChild(doc.createTextNode(str(im_width)))\n",
    "    height = doc.createElement('height')\n",
    "    height.appendChild(doc.createTextNode(str(im_height)))\n",
    "    depth = doc.createElement('depth')\n",
    "    depth.appendChild(doc.createTextNode(str(im_depth)))\n",
    "    size.appendChild(width)\n",
    "    size.appendChild(height)\n",
    "    size.appendChild(depth)\n",
    "    segmented = doc.createElement('segmented')\n",
    "    segmented.appendChild(doc.createTextNode('0'))\n",
    "    annotation.appendChild(segmented)\n",
    "    for i in range(object_num):\n",
    "        objects = doc.createElement('object')\n",
    "        annotation.appendChild(objects)\n",
    "        object_name = doc.createElement('name')\n",
    "        object_name.appendChild(doc.createTextNode(label_name[int(objects_axis[i][-1])]))\n",
    "        objects.appendChild(object_name)\n",
    "        pose = doc.createElement('pose')\n",
    "        pose.appendChild(doc.createTextNode('Unspecified'))\n",
    "        objects.appendChild(pose)\n",
    "        truncated = doc.createElement('truncated')\n",
    "        truncated.appendChild(doc.createTextNode('1'))\n",
    "        objects.appendChild(truncated)\n",
    "        difficult = doc.createElement('difficult')\n",
    "        difficult.appendChild(doc.createTextNode('0'))\n",
    "        objects.appendChild(difficult)\n",
    "        bndbox = doc.createElement('bndbox')\n",
    "        objects.appendChild(bndbox)\n",
    "        if parseMode == 'parse_dota_rec':\n",
    "            xmin = doc.createElement('xmin')\n",
    "            xmin.appendChild(doc.createTextNode(str((objects_axis[i][0]))))\n",
    "            bndbox.appendChild(xmin)\n",
    "            ymin = doc.createElement('ymin')\n",
    "            ymin.appendChild(doc.createTextNode(str((objects_axis[i][1]))))\n",
    "            bndbox.appendChild(ymin)\n",
    "            xmax = doc.createElement('xmax')\n",
    "            xmax.appendChild(doc.createTextNode(str((objects_axis[i][2]))))\n",
    "            bndbox.appendChild(xmax)\n",
    "            ymax = doc.createElement('ymax')\n",
    "            ymax.appendChild(doc.createTextNode(str((objects_axis[i][3]))))\n",
    "            bndbox.appendChild(ymax)\n",
    "        else:\n",
    "            x0 = doc.createElement('x0')\n",
    "            x0.appendChild(doc.createTextNode(str((objects_axis[i][0]))))\n",
    "            bndbox.appendChild(x0)\n",
    "            y0 = doc.createElement('y0')\n",
    "            y0.appendChild(doc.createTextNode(str((objects_axis[i][1]))))\n",
    "            bndbox.appendChild(y0)\n",
    "\n",
    "            x1 = doc.createElement('x1')\n",
    "            x1.appendChild(doc.createTextNode(str((objects_axis[i][2]))))\n",
    "            bndbox.appendChild(x1)\n",
    "            y1 = doc.createElement('y1')\n",
    "            y1.appendChild(doc.createTextNode(str((objects_axis[i][3]))))\n",
    "            bndbox.appendChild(y1)\n",
    "        \n",
    "            x2 = doc.createElement('x2')\n",
    "            x2.appendChild(doc.createTextNode(str((objects_axis[i][4]))))\n",
    "            bndbox.appendChild(x2)\n",
    "            y2 = doc.createElement('y2')\n",
    "            y2.appendChild(doc.createTextNode(str((objects_axis[i][5]))))\n",
    "            bndbox.appendChild(y2)\n",
    "\n",
    "            x3 = doc.createElement('x3')\n",
    "            x3.appendChild(doc.createTextNode(str((objects_axis[i][6]))))\n",
    "            bndbox.appendChild(x3)\n",
    "            y3 = doc.createElement('y3')\n",
    "            y3.appendChild(doc.createTextNode(str((objects_axis[i][7]))))\n",
    "            bndbox.appendChild(y3)\n",
    "        \n",
    "    f = open(save_path,'w')\n",
    "    f.write(doc.toprettyxml(indent = ''))\n",
    "    f.close() \n",
    "    \n",
    "def txt2xml(raw_folder, save_folder, class_list, parseMode='parse_dota_rec'):\n",
    "    \"\"\"\n",
    "    Params:\n",
    "        raw_folder: 原始数据根目录\n",
    "    return：\n",
    "        inplace\n",
    "    \"\"\"\n",
    "    dataset = DOTA.DOTA(raw_dir,parseMode)\n",
    "    img_list = dataset.getImgIds(catNms=[])\n",
    "    txt_root = os.path.join(open_folder,'labelTxt')\n",
    "    img_num = len(img_list)\n",
    "    for index,img_id in enumerate(img_list): #迭代列表中所有文件\n",
    "        img = dataset.loadImgs(img_id)[0]\n",
    "        labels = dataset.loadAnns(imgId=img_id)\n",
    "        tmp_label = np.empty((0,5), int)\n",
    "        for label in labels: #遍历当前文件中的所有目标框\n",
    "            tmp = list(label['bndbox'])\n",
    "            tmp.append(class_list.index(label['name'])) #通过list.index()方法找到类别的索引（class->int）\n",
    "            tmp = np.array(tmp)\n",
    "            tmp_label = np.vstack((tmp_label,tmp))\n",
    "        save_path = os.path.join(save_folder,'Annotations',img_id+\".xml\")\n",
    "        img_h, img_w = img.shape[:2]\n",
    "        save_to_xml(save_path, img_h, img_w, tmp_label, class_list, parseMode = 'parse_dota_rec')\n",
    "        if index % (img_num/10) == 0:\n",
    "            print(str(index)+' annotation files has finished!')\n",
    "    return 0\n",
    "def generate_txt_imgids()\n",
    "\n",
    "if '__name__' == '__main__':\n",
    "    raw_folder = '/media/raymond/MainDrive/Dataset/DOTA/train_test'\n",
    "    save_folder = '/media/raymond/MainDrive/Dataset/DOTA/train_test/Annotations'\n",
    "    #建立文件夹\n",
    "    if not os.path.exists(save_folder):\n",
    "        os.mkdir(save_folder)\n",
    "        print('Directory is built:'+ save_folder)\n",
    "    class_list = ['plane', 'baseball-diamond', 'bridge', 'ground-track-field', 'small-vehicle',\n",
    "                  'large-vehicle', 'ship', 'tennis-court', 'basketball-court',  'storage-tank', 'soccer-ball-field', \n",
    "                  'roundabout', 'harbor', 'swimming-pool', 'helicopter']\n",
    "    txt2xml(raw_folder, save_folder, class_list, parseMode='parse_dota_rec')"
   ]
  },
  {
   "cell_type": "code",
   "execution_count": 10,
   "metadata": {},
   "outputs": [
    {
     "data": {
      "text/plain": [
       "0.0"
      ]
     },
     "execution_count": 10,
     "metadata": {},
     "output_type": "execute_result"
    }
   ],
   "source": [
    "import numpy as np\n",
    "a = np.zeros([1,3])\n",
    "b = [a,'name']\n",
    "b[0][0][1]"
   ]
  },
  {
   "cell_type": "code",
   "execution_count": 11,
   "metadata": {},
   "outputs": [
    {
     "data": {
      "text/plain": [
       "array([1, 2, 3, 4])"
      ]
     },
     "execution_count": 11,
     "metadata": {},
     "output_type": "execute_result"
    }
   ],
   "source": [
    "a = (1,2,3,4)\n",
    "a = list(a)\n",
    "b = np.array(a)\n",
    "b"
   ]
  },
  {
   "cell_type": "code",
   "execution_count": 13,
   "metadata": {},
   "outputs": [
    {
     "data": {
      "text/plain": [
       "1"
      ]
     },
     "execution_count": 13,
     "metadata": {},
     "output_type": "execute_result"
    }
   ],
   "source": [
    "a = ['a','b','c']\n",
    "a.index('b')"
   ]
  },
  {
   "cell_type": "code",
   "execution_count": 18,
   "metadata": {},
   "outputs": [
    {
     "data": {
      "text/plain": [
       "array([[ 0.,  0.,  0.,  0.,  0.],\n",
       "       [ 0.,  0.,  0.,  0.,  0.]])"
      ]
     },
     "execution_count": 18,
     "metadata": {},
     "output_type": "execute_result"
    }
   ],
   "source": [
    "tmp_label = np.zeros([1,5])\n",
    "tmp_label = np.vstack((tmp_label,np.zeros([1,5])))\n",
    "tmp_label\n"
   ]
  },
  {
   "cell_type": "code",
   "execution_count": 21,
   "metadata": {},
   "outputs": [
    {
     "ename": "ValueError",
     "evalue": "all the input array dimensions except for the concatenation axis must match exactly",
     "output_type": "error",
     "traceback": [
      "\u001b[0;31m---------------------------------------------------------------------------\u001b[0m",
      "\u001b[0;31mValueError\u001b[0m                                Traceback (most recent call last)",
      "\u001b[0;32m<ipython-input-21-902a59c29d7f>\u001b[0m in \u001b[0;36m<module>\u001b[0;34m()\u001b[0m\n\u001b[1;32m      1\u001b[0m \u001b[0marr\u001b[0m \u001b[0;34m=\u001b[0m \u001b[0mnp\u001b[0m\u001b[0;34m.\u001b[0m\u001b[0mempty\u001b[0m\u001b[0;34m(\u001b[0m\u001b[0;34m(\u001b[0m\u001b[0;36m0\u001b[0m\u001b[0;34m,\u001b[0m\u001b[0;36m3\u001b[0m\u001b[0;34m)\u001b[0m\u001b[0;34m,\u001b[0m \u001b[0mint\u001b[0m\u001b[0;34m)\u001b[0m\u001b[0;34m\u001b[0m\u001b[0m\n\u001b[0;32m----> 2\u001b[0;31m \u001b[0marr\u001b[0m \u001b[0;34m=\u001b[0m \u001b[0mnp\u001b[0m\u001b[0;34m.\u001b[0m\u001b[0mvstack\u001b[0m\u001b[0;34m(\u001b[0m\u001b[0;34m(\u001b[0m\u001b[0marr\u001b[0m\u001b[0;34m,\u001b[0m\u001b[0mnp\u001b[0m\u001b[0;34m.\u001b[0m\u001b[0mzeros\u001b[0m\u001b[0;34m(\u001b[0m\u001b[0;34m[\u001b[0m\u001b[0;36m1\u001b[0m\u001b[0;34m,\u001b[0m\u001b[0;36m4\u001b[0m\u001b[0;34m]\u001b[0m\u001b[0;34m)\u001b[0m\u001b[0;34m)\u001b[0m\u001b[0;34m)\u001b[0m\u001b[0;34m\u001b[0m\u001b[0m\n\u001b[0m\u001b[1;32m      3\u001b[0m \u001b[0marr\u001b[0m\u001b[0;34m\u001b[0m\u001b[0m\n",
      "\u001b[0;32m~/anaconda3/lib/python3.6/site-packages/numpy/core/shape_base.py\u001b[0m in \u001b[0;36mvstack\u001b[0;34m(tup)\u001b[0m\n\u001b[1;32m    235\u001b[0m \u001b[0;34m\u001b[0m\u001b[0m\n\u001b[1;32m    236\u001b[0m     \"\"\"\n\u001b[0;32m--> 237\u001b[0;31m     \u001b[0;32mreturn\u001b[0m \u001b[0m_nx\u001b[0m\u001b[0;34m.\u001b[0m\u001b[0mconcatenate\u001b[0m\u001b[0;34m(\u001b[0m\u001b[0;34m[\u001b[0m\u001b[0matleast_2d\u001b[0m\u001b[0;34m(\u001b[0m\u001b[0m_m\u001b[0m\u001b[0;34m)\u001b[0m \u001b[0;32mfor\u001b[0m \u001b[0m_m\u001b[0m \u001b[0;32min\u001b[0m \u001b[0mtup\u001b[0m\u001b[0;34m]\u001b[0m\u001b[0;34m,\u001b[0m \u001b[0;36m0\u001b[0m\u001b[0;34m)\u001b[0m\u001b[0;34m\u001b[0m\u001b[0m\n\u001b[0m\u001b[1;32m    238\u001b[0m \u001b[0;34m\u001b[0m\u001b[0m\n\u001b[1;32m    239\u001b[0m \u001b[0;32mdef\u001b[0m \u001b[0mhstack\u001b[0m\u001b[0;34m(\u001b[0m\u001b[0mtup\u001b[0m\u001b[0;34m)\u001b[0m\u001b[0;34m:\u001b[0m\u001b[0;34m\u001b[0m\u001b[0m\n",
      "\u001b[0;31mValueError\u001b[0m: all the input array dimensions except for the concatenation axis must match exactly"
     ]
    }
   ],
   "source": [
    "arr = np.empty((0,3), int)\n",
    "arr = np.vstack((arr,np.zeros([1,4])))\n",
    "arr"
   ]
  },
  {
   "cell_type": "code",
   "execution_count": 10,
   "metadata": {},
   "outputs": [],
   "source": [
    "fp = open('test.txt','w+')\n",
    "a = ['12','23','45']\n",
    "for line in a:\n",
    "    fp.write(line+'\\n')\n",
    "fp.close()"
   ]
  },
  {
   "cell_type": "code",
   "execution_count": null,
   "metadata": {},
   "outputs": [],
   "source": []
  }
 ],
 "metadata": {
  "kernelspec": {
   "display_name": "Python 3",
   "language": "python",
   "name": "python3"
  },
  "language_info": {
   "codemirror_mode": {
    "name": "ipython",
    "version": 3
   },
   "file_extension": ".py",
   "mimetype": "text/x-python",
   "name": "python",
   "nbconvert_exporter": "python",
   "pygments_lexer": "ipython3",
   "version": "3.6.8"
  }
 },
 "nbformat": 4,
 "nbformat_minor": 2
}
