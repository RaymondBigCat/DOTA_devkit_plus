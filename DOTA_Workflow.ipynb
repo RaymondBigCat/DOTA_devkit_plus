{
 "cells": [
  {
   "cell_type": "markdown",
   "metadata": {},
   "source": [
    "# <center>DOTA_Workflow</center>\n",
    "## 用于对DOTA数据集进行切分、整理、并将其转化为符合VOC标准的结构\n",
    "## 1. ImgSplit\n",
    "切分数据集\n",
    "## 2. GetSpecificClass\n",
    "对切分后的数据集进行清理，清除掉无目标图片\n",
    "## 3. Txt2Xml\n",
    "将数据集转化为符合VOC标准的结构"
   ]
  },
  {
   "cell_type": "markdown",
   "metadata": {},
   "source": [
    "# DOTA 目标类别"
   ]
  },
  {
   "cell_type": "code",
   "execution_count": null,
   "metadata": {},
   "outputs": [],
   "source": [
    "\"\"\"\n",
    "class_list = ['plane', 'baseball-diamond', 'bridge', 'ground-track-field', 'small-vehicle',\n",
    "                  'large-vehicle', 'ship', 'tennis-court', 'basketball-court',  'storage-tank', 'soccer-ball-field', \n",
    "                  'roundabout', 'harbor', 'swimming-pool', 'helicopter']\n",
    "\"\"\""
   ]
  },
  {
   "cell_type": "markdown",
   "metadata": {},
   "source": [
    "# 加载相关依赖项\n",
    "## 比较关键的几个：\n",
    "- from DOTA_devkit import DOTA （Modified）\n",
    "- import shutil (in-build)\n",
    "- from txt2xml import * （DIY）"
   ]
  },
  {
   "cell_type": "code",
   "execution_count": 8,
   "metadata": {},
   "outputs": [],
   "source": [
    "\"\"\"\n",
    "加载依赖项\n",
    "\"\"\"\n",
    "#%matplotlib inline\n",
    "import numpy as np\n",
    "import matplotlib.pyplot as plt\n",
    "import os\n",
    "import pylab\n",
    "import sys\n",
    "# sys.path.append('/home/raymond/project/PytorchSSD_DOTA/data/DOTA_devkit') # 保证DOTA_devkit可用的关键\n",
    "from DOTA_devkit import DOTA\n",
    "import torchvision.transforms as transforms\n",
    "from PIL import Image\n",
    "import cv2\n",
    "import shutil\n",
    "from txt2xml import *"
   ]
  },
  {
   "cell_type": "markdown",
   "metadata": {},
   "source": [
    "# 全局参数\n",
    "- **Mode**：标注的解析方式\n",
    "- **main_folder**: DOTA原始数据集的文件夹\n",
    "- **main_type**：选择使用DOTA原始数据集的哪一部分（train、test、val）"
   ]
  },
  {
   "cell_type": "code",
   "execution_count": 9,
   "metadata": {},
   "outputs": [],
   "source": [
    "# Config (Global)\n",
    "Mode = 'parse_dota_rec'\n",
    "main_folder = '/home/buaab622/data/DOTA'\n",
    "main_type = 'val'"
   ]
  },
  {
   "cell_type": "markdown",
   "metadata": {},
   "source": [
    "# ImgSplit参数\n",
    "- **subset_name**：设定待切分子集的名称\n",
    "- **SaveClasses**：选择保留的目标类别\n",
    "- **subimg_size**：选择切分子图的尺寸\n",
    "- **subimg_gap**： 选择子图之间重叠的范围\n",
    "- **thresh_iou**：在切分图片的时候，可能有目标会被切割，目标剩余面积占比超过该阈值才被视作有效目标，保留包围框"
   ]
  },
  {
   "cell_type": "code",
   "execution_count": 25,
   "metadata": {},
   "outputs": [],
   "source": [
    "# Config (ImgSplit)\n",
    "subset_name = 'subset_car_ship_500'\n",
    "SaveClasses = ['ship','small-vehicle']\n",
    "subimg_size = 500\n",
    "subimg_gap = 200\n",
    "thresh_iou = 0.8\n",
    "# Config (Get Specific Classes)"
   ]
  },
  {
   "cell_type": "markdown",
   "metadata": {},
   "source": [
    "# txt2xml参数\n",
    "- **img_shape**：数据集图片尺寸信息\n",
    "- **class_list**：保留的目标类别\n",
    "- **subset_type**：设定.txt文件的名称（需反应该数据集的用途：train/test/val）"
   ]
  },
  {
   "cell_type": "code",
   "execution_count": 26,
   "metadata": {},
   "outputs": [],
   "source": [
    "# Config (txt2xml)\n",
    "img_shape =(500, 500, 3)\n",
    "class_list = ['ship','small-vehicle']\n",
    "subset_type = 'car_ship_train'"
   ]
  },
  {
   "cell_type": "markdown",
   "metadata": {},
   "source": [
    "# 建立相关的路径信息（不需手动更改）\n",
    "- **raw_path**：待处理的DOTA原始数据集路径（DOTA + train/val/test）\n",
    "- **subset_path**：子集存放路径（DOTA + subset_name）\n",
    "- **GSC_folder**：被清洗后的子集路径（DOTA + subset_name + 'GSC'）\n",
    "- **origin_folder**：待送入txt2xml进行VOC格式转化的文件夹\n",
    "- **processed_folder**：VOC结构转化完成的输出文件夹"
   ]
  },
  {
   "cell_type": "code",
   "execution_count": 27,
   "metadata": {},
   "outputs": [],
   "source": [
    "# generate some necessary path\n",
    "# Main\n",
    "raw_path = os.path.join(main_folder, main_type)\n",
    "# ImgSplit\n",
    "subset_path = os.path.join(main_folder,subset_name)\n",
    "# GSC\n",
    "GSC_folder = os.path.join(main_folder, subset_name + '_GSC')\n",
    "# txt2xml\n",
    "origin_folder = GSC_folder\n",
    "processed_folder = GSC_folder"
   ]
  },
  {
   "cell_type": "markdown",
   "metadata": {},
   "source": [
    "# 加载原始数据集"
   ]
  },
  {
   "cell_type": "code",
   "execution_count": 13,
   "metadata": {},
   "outputs": [
    {
     "name": "stdout",
     "output_type": "stream",
     "text": [
      " Error: /home/buaab622/data/DOTA/val/labelTxt/labelTxt.zip is not a .txt file\n",
      " Error: /home/buaab622/data/DOTA/val/labelTxt/Val_Task2_gt.zip is not a .txt file\n",
      " DOTA dataset has been successfully loaded \n"
     ]
    }
   ],
   "source": [
    "\"\"\"\n",
    "生成一个DOTA实例\n",
    "\"\"\"\n",
    "# 测试路径：'/home/raymond/project/DOTA_PyTorch/DOTA_devkit/example'\n",
    "# train路径：'/media/b622/MainDrive/Dataset/DOTA/train'\n",
    "#dataset = DOTA.DOTA('/home/raymond/project/PytorchSSD_DOTA/data/DOTA_devkit/classsplit',parseMode='parse_dota_rec')\n",
    "dataset = DOTA.DOTA(raw_path, parseMode = Mode)"
   ]
  },
  {
   "cell_type": "markdown",
   "metadata": {},
   "source": [
    "# ImgSplit操作\n",
    "### 裁剪图片+筛选类别"
   ]
  },
  {
   "cell_type": "code",
   "execution_count": 14,
   "metadata": {},
   "outputs": [
    {
     "name": "stdout",
     "output_type": "stream",
     "text": [
      "加载图片ID完成：共有 219 张图片符合筛选条件\n",
      "already finished: 0 %\n",
      "already finished: 0 %\n",
      "already finished: 10 %\n",
      "already finished: 10 %\n",
      "already finished: 20 %\n",
      "already finished: 20 %\n",
      "already finished: 30 %\n",
      "already finished: 30 %\n",
      "already finished: 40 %\n",
      "already finished: 40 %\n",
      "already finished: 50 %\n",
      "already finished: 50 %\n",
      "already finished: 60 %\n",
      "already finished: 60 %\n",
      "already finished: 70 %\n",
      "already finished: 70 %\n",
      "already finished: 80 %\n",
      "already finished: 80 %\n",
      "already finished: 90 %\n",
      "already finished: 90 %\n",
      "already finished: 100 %\n",
      "already finished: 100 %\n"
     ]
    }
   ],
   "source": [
    "# ImgSplit\n",
    "\"\"\"\n",
    "裁剪图像与标注，生成新的数据集\n",
    "\"\"\"\n",
    "# split image\n",
    "# cut image (original)\n",
    "from DOTA_devkit import ImgSplit\n",
    "imgids = dataset.getImgIds(catNms = SaveClasses)\n",
    "imagelist = imgids\n",
    "split = ImgSplit.splitbase(raw_path,subset_path,gap=subimg_gap, subsize=subimg_size, thresh=thresh_iou, choosebestpoint=True)\n",
    "# split.splitdata(self,rate:int,imglist:List[str])\n",
    "split.splitdata(1,imagelist)"
   ]
  },
  {
   "cell_type": "markdown",
   "metadata": {},
   "source": [
    "# Pre-Process of GSC\n",
    "### 加载子集，筛选类别，构造路径"
   ]
  },
  {
   "cell_type": "code",
   "execution_count": 15,
   "metadata": {},
   "outputs": [
    {
     "name": "stdout",
     "output_type": "stream",
     "text": [
      " DOTA dataset has been successfully loaded \n",
      "加载图片ID完成：共有 2919 张图片符合筛选条件\n",
      "2919\n"
     ]
    }
   ],
   "source": [
    "\"\"\"\n",
    "生成一个DOTA实例\"\"\"\n",
    "#root = '/media/raymond/MainDrive/Dataset/DOTA'\n",
    "#raw_dataset = 'subset_planes_500_gap200'\n",
    "#open_folder = os.path.join(root,subset_path)\n",
    "dataset = DOTA.DOTA(subset_path, parseMode = Mode)\n",
    "\"\"\"\n",
    "加载包含指定类别目标的图片ID\"\"\"\n",
    "imgids = dataset.getImgIds(catNms = SaveClasses)\n",
    "print(len(imgids))\n",
    "\"\"\"\n",
    "构造打开、保存图像+标注的路径\"\"\"\n",
    "img_root = os.path.join(subset_path,'images')\n",
    "label_root = os.path.join(subset_path,'labelTxt')\n",
    "img_save = os.path.join(GSC_folder,'images')\n",
    "label_save = os.path.join(GSC_folder,'labelTxt')\n"
   ]
  },
  {
   "cell_type": "markdown",
   "metadata": {},
   "source": [
    "# GSC操作\n",
    "### 清理无效数据（空目标图片）"
   ]
  },
  {
   "cell_type": "code",
   "execution_count": 17,
   "metadata": {},
   "outputs": [
    {
     "name": "stdout",
     "output_type": "stream",
     "text": [
      "Directory is built:/home/buaab622/data/DOTA/subset_car_ship_500_val_GSC\n",
      "Directory is built:/home/buaab622/data/DOTA/subset_car_ship_500_val_GSC/images\n",
      "Directory is built:/home/buaab622/data/DOTA/subset_car_ship_500_val_GSC/labelTxt\n",
      "already finished: 0 %\n",
      "already finished: 10 %\n",
      "already finished: 20 %\n",
      "already finished: 30 %\n",
      "already finished: 40 %\n",
      "already finished: 50 %\n",
      "already finished: 60 %\n",
      "already finished: 70 %\n",
      "already finished: 80 %\n",
      "already finished: 90 %\n",
      "already finished: 100 %\n",
      "All copy operation is done!\n"
     ]
    }
   ],
   "source": [
    "\"\"\"\n",
    "建立相关文件夹\n",
    "\"\"\"\n",
    "if not os.path.exists(GSC_folder):\n",
    "    os.mkdir(GSC_folder)\n",
    "    print('Directory is built:'+ GSC_folder)\n",
    "if not os.path.exists(img_save): \n",
    "    os.mkdir(img_save)\n",
    "    print('Directory is built:'+ img_save)\n",
    "if not os.path.exists(label_save):\n",
    "    os.mkdir(label_save)\n",
    "    print('Directory is built:'+ label_save)\n",
    "num_imgids = len(imgids)\n",
    "for index,imgid in enumerate(imgids):\n",
    "    imgname = str(imgid)+'.png'\n",
    "    labelname = str(imgid)+'.txt'\n",
    "    if index % (num_imgids//10) == 1:\n",
    "        print(\"already finished: \"+str(index//(num_imgids//10)*10)+\" %\")\n",
    "    # copy img\n",
    "    shutil.copy(os.path.join(img_root,imgname),os.path.join(img_save,imgname))\n",
    "    # copy label\n",
    "    shutil.copy(os.path.join(label_root,labelname),os.path.join(label_save,labelname))\n",
    "    # print('processing: '+str(imgid))\n",
    "print('All copy operation is done!')"
   ]
  },
  {
   "cell_type": "markdown",
   "metadata": {},
   "source": [
    "# txt2xml操作1\n",
    "### 将.txt格式的标注文件转化为符合VOC标准的.xml标注文件"
   ]
  },
  {
   "cell_type": "code",
   "execution_count": 18,
   "metadata": {},
   "outputs": [
    {
     "name": "stdout",
     "output_type": "stream",
     "text": [
      "Directory is built:/home/buaab622/data/DOTA/subset_car_ship_500_val_GSC/Annotations\n",
      " DOTA dataset has been successfully loaded \n",
      "加载图片ID完成：返回所有图片ID\n",
      "already finished: 0 %\n",
      "already finished: 10 %\n",
      "already finished: 20 %\n",
      "already finished: 30 %\n",
      "already finished: 40 %\n",
      "already finished: 50 %\n",
      "already finished: 60 %\n",
      "already finished: 70 %\n",
      "already finished: 80 %\n",
      "already finished: 90 %\n",
      "already finished: 100 %\n"
     ]
    }
   ],
   "source": [
    "# txt2xml\n",
    "txt2xml(origin_folder, img_shape, class_list, parseMode=Mode)"
   ]
  },
  {
   "cell_type": "markdown",
   "metadata": {},
   "source": []
  },
  {
   "cell_type": "markdown",
   "metadata": {},
   "source": [
    "### 生成符合VOC标准的路径，并生成包含所有图片id的.txt"
   ]
  },
  {
   "cell_type": "code",
   "execution_count": 19,
   "metadata": {
    "scrolled": true
   },
   "outputs": [],
   "source": [
    "# generate .txt list of images\n",
    "generate_txt_imgids(origin_folder, dataset_name = subset_type)"
   ]
  },
  {
   "cell_type": "markdown",
   "metadata": {},
   "source": [
    "### 生成符合VOC标准的JPEGImages软链接"
   ]
  },
  {
   "cell_type": "code",
   "execution_count": 28,
   "metadata": {},
   "outputs": [],
   "source": [
    "# generate soft link\n",
    "os.symlink(os.path.join(origin_folder,'images'), os.path.join(origin_folder,'JPEGImages'))"
   ]
  },
  {
   "cell_type": "code",
   "execution_count": null,
   "metadata": {},
   "outputs": [],
   "source": []
  },
  {
   "cell_type": "code",
   "execution_count": null,
   "metadata": {},
   "outputs": [],
   "source": []
  }
 ],
 "metadata": {
  "kernelspec": {
   "display_name": "Python 3",
   "language": "python",
   "name": "python3"
  },
  "language_info": {
   "codemirror_mode": {
    "name": "ipython",
    "version": 3
   },
   "file_extension": ".py",
   "mimetype": "text/x-python",
   "name": "python",
   "nbconvert_exporter": "python",
   "pygments_lexer": "ipython3",
   "version": "3.6.8"
  }
 },
 "nbformat": 4,
 "nbformat_minor": 2
}
